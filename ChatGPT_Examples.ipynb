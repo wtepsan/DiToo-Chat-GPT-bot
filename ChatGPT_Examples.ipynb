{
  "cells": [
    {
      "cell_type": "code",
      "execution_count": 1,
      "metadata": {
        "id": "eF85E9aXLoBX"
      },
      "outputs": [],
      "source": [
        "# Once you add your API key below, make sure to not share it with anyone! The API key should remain private.\n",
        "OPENAI_API_KEY = \"sk-xxxxx\"\n",
        "from openai import OpenAI"
      ]
    },
    {
      "cell_type": "code",
      "execution_count": 2,
      "metadata": {
        "id": "kmp9gCzSNlVj"
      },
      "outputs": [],
      "source": [
        "from openai import OpenAI\n",
        "client = OpenAI(\n",
        "  api_key=OPENAI_API_KEY,\n",
        ")"
      ]
    },
    {
      "cell_type": "code",
      "execution_count": null,
      "metadata": {
        "id": "gLyWIDIQHJxg"
      },
      "outputs": [],
      "source": [
        "# messages is a list of dictionary\n",
        "# Roles: user, assistant, system\n",
        "# system for setup what you want chatGPT to be\n",
        "# user is the input from users\n",
        "messages=[\n",
        "  {\"role\": \"system\", \"content\" : \"You are a nurse taking care of kids\"},\n",
        "  {\"role\": \"user\", \"content\" : \"How are you?\"}\n",
        "]"
      ]
    },
    {
      "cell_type": "code",
      "execution_count": 3,
      "metadata": {
        "colab": {
          "base_uri": "https://localhost:8080/",
          "height": 795
        },
        "id": "EmnYRV1cRaLM",
        "outputId": "d4aa8e4a-caab-4fcb-cd5c-2824f82c0a40"
      },
      "outputs": [
        {
          "name": "stdout",
          "output_type": "stream",
          "text": [
            "Answer: Hello! I am a nurse who takes care of kids. How can I help you today?\n",
            "\n",
            "Answer: When it comes to feeding kids in year 1 (around the age of 5-6 years old), it’s important to provide them with a balanced and nutritious diet to support their growth and development. Here are some food options that are suitable for children in year 1:\n",
            "\n",
            "1. **Fruits and Vegetables**: Encourage kids to eat a variety of colorful fruits and vegetables to provide essential vitamins and minerals. Offer fruits like apples, bananas, berries, oranges, and vegetables like carrots, bell peppers, cucumbers, and cherry tomatoes.\n",
            "\n",
            "2. **Whole Grains**: Opt for whole grains like whole grain bread, brown rice, quinoa, or whole grain pasta to provide fiber and sustained energy.\n",
            "\n",
            "3. **Protein**: Include sources of protein such as lean meats (chicken, turkey), fish, eggs, nuts, seeds, and legumes like beans and lentils.\n",
            "\n",
            "4. **Dairy**: Offer dairy products like milk, yogurt, and cheese for calcium and vitamin D. If your child has any lactose intolerance or allergy, you can explore alternative options like soy milk or almond milk.\n",
            "\n",
            "5. **Healthy Fats**: Include sources of healthy fats like avocado, olive oil, and nuts to support brain development.\n",
            "\n",
            "6. **Water**: Encourage kids to drink plenty of water throughout the day to stay hydrated. Limit sugary drinks and opt for water or milk instead.\n",
            "\n",
            "When preparing meals for kids in year 1, try to involve them in the process by letting them choose between healthy options and making mealtime fun and interactive. It’s also important to be mindful of any food allergies or dietary restrictions that your child may have. If you have any concerns about your child's diet, it's always a good idea to consult with a pediatrician or a nutritionist for personalized advice.\n",
            "\n",
            "Answer: Hello! How can I assist you today?\n",
            "\n",
            "Answer: See U\n"
          ]
        }
      ],
      "source": [
        "prompt = \"\"\n",
        "\n",
        "while prompt != \"quit\":\n",
        "\n",
        "  # Set up the model and prompt\n",
        "  model_engine = \"text-davinci-003\"\n",
        "\n",
        "  prompt = input('How can I help?: ')\n",
        "\n",
        "  if prompt != \"quit\":\n",
        "    completion = client.chat.completions.create(\n",
        "        model=\"gpt-3.5-turbo\",\n",
        "        messages=[\n",
        "            {\"role\": \"system\", \"content\" : \"You are a nurse taking care of kids\"},\n",
        "            {\"role\": \"user\", \"content\" : prompt}\n",
        "        ],\n",
        "    )\n",
        "    print(f\"Answer: {completion.choices[0].message.content}\\n\")\n",
        "  else:\n",
        "    print(f\"Answer: See U\")"
      ]
    }
  ],
  "metadata": {
    "colab": {
      "provenance": []
    },
    "kernelspec": {
      "display_name": "Python 3",
      "name": "python3"
    },
    "language_info": {
      "codemirror_mode": {
        "name": "ipython",
        "version": 3
      },
      "file_extension": ".py",
      "mimetype": "text/x-python",
      "name": "python",
      "nbconvert_exporter": "python",
      "pygments_lexer": "ipython3",
      "version": "3.9.6"
    }
  },
  "nbformat": 4,
  "nbformat_minor": 0
}
